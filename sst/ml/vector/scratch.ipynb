{
 "cells": [
  {
   "cell_type": "code",
   "execution_count": 4,
   "id": "4b3f9775",
   "metadata": {},
   "outputs": [],
   "source": [
    "import re\n",
    "import requests\n",
    "import urllib.request\n",
    "import time\n",
    "from bs4 import BeautifulSoup\n",
    "from urllib.request import urlopen\n",
    "import json\n",
    "\n",
    "objects = []\n",
    "articles = [\n",
    "    ['cbt', \"https://en.wikipedia.org/wiki/Cognitive_behavioral_therapy\"],\n",
    "    ['vr', \"https://en.wikipedia.org/wiki/Virtual_reality\"],\n",
    "    ['ai', \"https://en.wikipedia.org/wiki/Artificial_intelligence\"]\n",
    "]\n",
    "for [topic, url] in articles:\n",
    "    html = urlopen(url)\n",
    "    soup = BeautifulSoup(html, 'html.parser')\n",
    "    paras = []\n",
    "    for para in soup.find(id=\"mw-content-text\").find_all('p'):\n",
    "        para = para.get_text()\n",
    "        para = para.replace('\\n', ' ')\n",
    "        para = re.sub(r\"\\[[0-9]+\\]\", \"\", para)\n",
    "        if len(para) < 10:\n",
    "            continue\n",
    "        # para = re.sub(r\"\\[[0-9]*\\]\", \"\", para)\n",
    "        if len(paras) == 0:\n",
    "            paras.append(para)\n",
    "        elif len(para) < 100:\n",
    "            paras[len(paras) - 1] += para\n",
    "        else:\n",
    "            paras.append(para)\n",
    "    for i, para in enumerate(paras):\n",
    "        doc = dict(\n",
    "            text=para,\n",
    "            title=f\"{topic}{i}\"\n",
    "        )\n",
    "        objects.append(doc)\n",
    "\n",
    "with open(\"mock_entries.json\", \"w\") as f:\n",
    "    f.write(json.dumps(objects))"
   ]
  },
  {
   "cell_type": "code",
   "execution_count": 1,
   "id": "49a4cc4d",
   "metadata": {},
   "outputs": [],
   "source": [
    "USE_GPU = False\n",
    "import os\n",
    "os.environ[\"CUDA_VISIBLE_DEVICES\"] = \"\"\n",
    "import json\n",
    "\n",
    "from haystack.document_stores.faiss import FAISSDocumentStore\n",
    "\n",
    "document_store = FAISSDocumentStore.load('./index.faiss', './index.config')"
   ]
  },
  {
   "cell_type": "code",
   "execution_count": 2,
   "id": "6a015084",
   "metadata": {},
   "outputs": [
    {
     "name": "stderr",
     "output_type": "stream",
     "text": [
      "The tokenizer class you load from this checkpoint is not the same type as the class this function is called from. It may result in unexpected tokenization. \n",
      "The tokenizer class you load from this checkpoint is 'DPRQuestionEncoderTokenizer'. \n",
      "The class this function is called from is 'DPRContextEncoderTokenizerFast'.\n"
     ]
    }
   ],
   "source": [
    "from haystack.nodes import DensePassageRetriever\n",
    "dpr_retriever = DensePassageRetriever(\n",
    "    document_store=document_store,\n",
    "    use_gpu=False\n",
    "    # query_embedding_model=\"facebook/dpr-question_encoder-single-nq-base\",\n",
    "    # passage_embedding_model=\"facebook/dpr-ctx_encoder-single-nq-base\"\n",
    ")"
   ]
  },
  {
   "cell_type": "code",
   "execution_count": 3,
   "id": "27ef46c6",
   "metadata": {
    "scrolled": true
   },
   "outputs": [
    {
     "name": "stderr",
     "output_type": "stream",
     "text": [
      "WARNING:haystack.nodes.answer_generator.transformers:top_k value should not be greater than num_beams, hence setting it to 2\n",
      "The tokenizer class you load from this checkpoint is not the same type as the class this function is called from. It may result in unexpected tokenization. \n",
      "The tokenizer class you load from this checkpoint is 'RagTokenizer'. \n",
      "The class this function is called from is 'DPRQuestionEncoderTokenizer'.\n",
      "The tokenizer class you load from this checkpoint is not the same type as the class this function is called from. It may result in unexpected tokenization. \n",
      "The tokenizer class you load from this checkpoint is 'RagTokenizer'. \n",
      "The class this function is called from is 'DPRQuestionEncoderTokenizerFast'.\n",
      "The tokenizer class you load from this checkpoint is not the same type as the class this function is called from. It may result in unexpected tokenization. \n",
      "The tokenizer class you load from this checkpoint is 'RagTokenizer'. \n",
      "The class this function is called from is 'BartTokenizer'.\n",
      "The tokenizer class you load from this checkpoint is not the same type as the class this function is called from. It may result in unexpected tokenization. \n",
      "The tokenizer class you load from this checkpoint is 'RagTokenizer'. \n",
      "The class this function is called from is 'BartTokenizerFast'.\n",
      "Some weights of the model checkpoint at facebook/rag-sequence-nq were not used when initializing RagTokenForGeneration: ['rag.question_encoder.question_encoder.bert_model.pooler.dense.weight', 'rag.question_encoder.question_encoder.bert_model.pooler.dense.bias']\n",
      "- This IS expected if you are initializing RagTokenForGeneration from the checkpoint of a model trained on another task or with another architecture (e.g. initializing a BertForSequenceClassification model from a BertForPreTraining model).\n",
      "- This IS NOT expected if you are initializing RagTokenForGeneration from the checkpoint of a model that you expect to be exactly identical (initializing a BertForSequenceClassification model from a BertForSequenceClassification model).\n",
      "Some weights of RagTokenForGeneration were not initialized from the model checkpoint at facebook/rag-sequence-nq and are newly initialized: ['rag.generator.lm_head.weight']\n",
      "You should probably TRAIN this model on a down-stream task to be able to use it for predictions and inference.\n"
     ]
    }
   ],
   "source": [
    "from haystack.nodes import RAGenerator\n",
    "rag_generator = RAGenerator(\n",
    "    model_name_or_path=\"facebook/rag-sequence-nq\",\n",
    "    retriever=dpr_retriever,\n",
    "    top_k=3,\n",
    "    min_length=3\n",
    ")"
   ]
  },
  {
   "cell_type": "code",
   "execution_count": 4,
   "id": "53742695",
   "metadata": {},
   "outputs": [
    {
     "name": "stderr",
     "output_type": "stream",
     "text": [
      "Inferencing Samples: 100%|████████████████████████████████████████████████████████████████████████████████████████████████████████████████████████████████████████████████████████████████████████████████████████████████████████████████████| 1/1 [00:00<00:00,  1.02 Batches/s]"
     ]
    },
    {
     "name": "stdout",
     "output_type": "stream",
     "text": [
      "{'query': 'What is CBT?', 'no_ans_gap': 11.73118257522583, 'answers': [<Answer {'answer': 'Brief cognitive behavioral therapy', 'type': 'extractive', 'score': 0.9323877692222595, 'context': 'Brief cognitive behavioral therapy (BCBT) is a form of CBT which has been developed for situations in which there are time constraints on the therapy ', 'offsets_in_document': [{'start': 0, 'end': 34}], 'offsets_in_context': [{'start': 0, 'end': 34}], 'document_id': '68bec10980b1ec8d80e70569070c437d', 'meta': {'name': 'cbt81', 'obj_id': '1ff6313f-127b-47f3-b888-545b584efd77', 'parent_id': '450497e3-d704-4558-b607-4eb0d214f39a', 'obj_type': 'entry', 'vector_id': '115'}}>, <Answer {'answer': 'Cognitive emotional behavioral therapy', 'type': 'extractive', 'score': 0.7439917922019958, 'context': 'Cognitive emotional behavioral therapy (CEBT) is a form of CBT developed initially for individuals with eating disorders but now used with a range of ', 'offsets_in_document': [{'start': 0, 'end': 38}], 'offsets_in_context': [{'start': 0, 'end': 38}], 'document_id': '4bf489705e7cb083a633b813390067b2', 'meta': {'name': 'cbt82', 'obj_id': 'fb64a2c2-9d1d-4bcd-b5e2-90321af5b880', 'parent_id': '450497e3-d704-4558-b607-4eb0d214f39a', 'obj_type': 'entry', 'vector_id': '74'}}>, <Answer {'answer': 'mental health difficulties', 'type': 'extractive', 'score': 0.5723845362663269, 'context': ' (NICE) recommends CBT in the treatment plans for a number of mental health difficulties, including PTSD, OCD, bulimia nervosa, and clinical depressio', 'offsets_in_document': [{'start': 132, 'end': 158}], 'offsets_in_context': [{'start': 62, 'end': 88}], 'document_id': '7e8dd121f462cac978ac1806dd78dfb2', 'meta': {'name': 'cbt30', 'obj_id': '0a9e7717-427f-453d-b0ba-3d69519d0649', 'parent_id': '450497e3-d704-4558-b607-4eb0d214f39a', 'obj_type': 'entry', 'vector_id': '149'}}>, <Answer {'answer': 'a psycho-social intervention', 'type': 'extractive', 'score': 0.4732707738876343, 'context': 'Cognitive behavioral therapy (CBT) is a psycho-social intervention that aims to reduce symptoms of various mental health conditions, primarily depress', 'offsets_in_document': [{'start': 38, 'end': 66}], 'offsets_in_context': [{'start': 38, 'end': 66}], 'document_id': 'ca7016fd804df5e4b6efc415bbb00463', 'meta': {'name': 'cbt0', 'obj_id': '477355c4-50dc-45fe-8357-34e89b60e0d7', 'parent_id': '450497e3-d704-4558-b607-4eb0d214f39a', 'obj_type': 'entry', 'vector_id': '235'}}>, <Answer {'answer': 'helps individuals replace \"maladaptive\\xa0... coping skills, cognitions, emotions and behaviors with more adaptive ones\", by challenging an individual\\'s way of thinking and the way that they react to certain habits or behaviors, but there is still controversy about the degree to which these traditional cognitive elements account for the effects seen with CBT over and above the earlier behavioral elements such as exposure and skills training. CBT can be seen as having six phases', 'type': 'extractive', 'score': 0.3368985056877136, 'context': ' helps individuals replace \"maladaptive\\xa0... coping skills, cognitions, emotions and behaviors with more adaptive ones\", by challenging an individual\\'s way of thinking and the way that they react to certain habits or behaviors, but there is still controversy about the degree to which these traditional cognitive elements account for the effects seen with CBT over and above the earlier behavioral elements such as exposure and skills training. CBT can be seen as having six phases', 'offsets_in_document': [{'start': 15, 'end': 494}], 'offsets_in_context': [{'start': 1, 'end': 480}], 'document_id': '5135f7ccc2705fd9cf8edbc58c3702b6', 'meta': {'name': 'cbt21', 'obj_id': 'ca3d169b-4995-4e39-a5e9-50b88eb19256', 'parent_id': '450497e3-d704-4558-b607-4eb0d214f39a', 'obj_type': 'entry', 'vector_id': '81'}}>], 'documents': [<Document: {'content': 'Cognitive behavioral therapy (CBT) is a psycho-social intervention that aims to reduce symptoms of various mental health conditions, primarily depression and anxiety disorders. CBT focuses on challenging and changing cognitive distortions (such as thoughts, beliefs, and attitudes) and their associated behaviors to improve emotional regulation and develop personal coping strategies that target solving current problems. Though it was originally designed to treat depression, its uses have been expanded to include the treatment of many mental health conditions, including anxiety, substance use disorders, marital problems, and eating disorders. CBT includes a number of cognitive or behavioral psychotherapies that treat defined psychopathologies using evidence-based techniques and strategies. ', 'content_type': 'text', 'score': 0.6839176956004864, 'meta': {'name': 'cbt0', 'obj_id': '477355c4-50dc-45fe-8357-34e89b60e0d7', 'parent_id': '450497e3-d704-4558-b607-4eb0d214f39a', 'obj_type': 'entry', 'vector_id': '235'}, 'embedding': None, 'id': 'ca7016fd804df5e4b6efc415bbb00463'}>, <Document: {'content': \"The United Kingdom's National Institute for Health and Care Excellence (NICE) recommends CBT in the treatment plans for a number of mental health difficulties, including PTSD, OCD, bulimia nervosa, and clinical depression. \", 'content_type': 'text', 'score': 0.6805752560125901, 'meta': {'name': 'cbt30', 'obj_id': '0a9e7717-427f-453d-b0ba-3d69519d0649', 'parent_id': '450497e3-d704-4558-b607-4eb0d214f39a', 'obj_type': 'entry', 'vector_id': '149'}, 'embedding': None, 'id': '7e8dd121f462cac978ac1806dd78dfb2'}>, <Document: {'content': 'Brief cognitive behavioral therapy (BCBT) is a form of CBT which has been developed for situations in which there are time constraints on the therapy sessions. BCBT takes place over a couple of sessions that can last up to 12 accumulated hours by design. This technique was first implemented and developed on soldiers overseas in active duty by David M. Rudd to prevent suicide. Breakdown of treatment ', 'content_type': 'text', 'score': 0.6800253373030611, 'meta': {'name': 'cbt81', 'obj_id': '1ff6313f-127b-47f3-b888-545b584efd77', 'parent_id': '450497e3-d704-4558-b607-4eb0d214f39a', 'obj_type': 'entry', 'vector_id': '115'}, 'embedding': None, 'id': '68bec10980b1ec8d80e70569070c437d'}>, <Document: {'content': 'Mainstream CBT helps individuals replace \"maladaptive\\xa0... coping skills, cognitions, emotions and behaviors with more adaptive ones\", by challenging an individual\\'s way of thinking and the way that they react to certain habits or behaviors, but there is still controversy about the degree to which these traditional cognitive elements account for the effects seen with CBT over and above the earlier behavioral elements such as exposure and skills training. CBT can be seen as having six phases: ', 'content_type': 'text', 'score': 0.6798556858480039, 'meta': {'name': 'cbt21', 'obj_id': 'ca3d169b-4995-4e39-a5e9-50b88eb19256', 'parent_id': '450497e3-d704-4558-b607-4eb0d214f39a', 'obj_type': 'entry', 'vector_id': '81'}, 'embedding': None, 'id': '5135f7ccc2705fd9cf8edbc58c3702b6'}>, <Document: {'content': 'Cognitive emotional behavioral therapy (CEBT) is a form of CBT developed initially for individuals with eating disorders but now used with a range of problems including anxiety, depression, obsessive compulsive disorder (OCD), post-traumatic stress disorder (PTSD) and anger problems. It combines aspects of CBT and dialectical behavioral therapy and aims to improve understanding and tolerance of emotions in order to facilitate the therapeutic process. It is frequently used as a \"pretreatment\" to prepare and better equip individuals for longer-term therapy. ', 'content_type': 'text', 'score': 0.6784954991238835, 'meta': {'name': 'cbt82', 'obj_id': 'fb64a2c2-9d1d-4bcd-b5e2-90321af5b880', 'parent_id': '450497e3-d704-4558-b607-4eb0d214f39a', 'obj_type': 'entry', 'vector_id': '74'}, 'embedding': None, 'id': '4bf489705e7cb083a633b813390067b2'}>], 'root_node': 'Query', 'params': {'Retriever': {'top_k': 5}}, 'node_id': 'Reader'}\n"
     ]
    },
    {
     "name": "stderr",
     "output_type": "stream",
     "text": [
      "\n"
     ]
    },
    {
     "ename": "SyntaxError",
     "evalue": "'return' outside function (2443452032.py, line 13)",
     "output_type": "error",
     "traceback": [
      "\u001b[0;36m  Cell \u001b[0;32mIn[4], line 13\u001b[0;36m\u001b[0m\n\u001b[0;31m    return None\u001b[0m\n\u001b[0m    ^\u001b[0m\n\u001b[0;31mSyntaxError\u001b[0m\u001b[0;31m:\u001b[0m 'return' outside function\n"
     ]
    }
   ],
   "source": [
    "from haystack.pipelines import GenerativeQAPipeline\n",
    "\n",
    "from haystack.nodes import FARMReader\n",
    "from haystack.pipelines import ExtractiveQAPipeline\n",
    "reader = FARMReader(model_name_or_path=\"deepset/roberta-base-squad2\", use_gpu=False)\n",
    "pipe = ExtractiveQAPipeline(reader, dpr_retriever)\n",
    "result = pipe.run(query='What is CBT?', params={\"Retriever\": {\"top_k\": 5}})\n",
    "a = 1\n",
    "\n",
    "# # Change `minimum` to `medium` or `all` to raise the level of detail\n",
    "# print_answers(result, details=\"all\")\n",
    "print(result)\n",
    "return None"
   ]
  }
 ],
 "metadata": {
  "kernelspec": {
   "display_name": "Python 3 (ipykernel)",
   "language": "python",
   "name": "python3"
  },
  "language_info": {
   "codemirror_mode": {
    "name": "ipython",
    "version": 3
   },
   "file_extension": ".py",
   "mimetype": "text/x-python",
   "name": "python",
   "nbconvert_exporter": "python",
   "pygments_lexer": "ipython3",
   "version": "3.10.6"
  }
 },
 "nbformat": 4,
 "nbformat_minor": 5
}
