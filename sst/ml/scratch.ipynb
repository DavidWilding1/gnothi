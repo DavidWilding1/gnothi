{
 "cells": [
  {
   "cell_type": "code",
   "execution_count": null,
   "id": "4b3f9775",
   "metadata": {},
   "outputs": [],
   "source": [
    "import re\n",
    "import requests\n",
    "import urllib.request\n",
    "import time\n",
    "from bs4 import BeautifulSoup\n",
    "from urllib.request import urlopen\n",
    "import json\n",
    "\n",
    "objects = []\n",
    "articles = [\n",
    "    ['cbt', \"https://en.wikipedia.org/wiki/Cognitive_behavioral_therapy\"],\n",
    "    ['vr', \"https://en.wikipedia.org/wiki/Virtual_reality\"],\n",
    "    ['ai', \"https://en.wikipedia.org/wiki/Artificial_intelligence\"]\n",
    "]\n",
    "for [topic, url] in articles:\n",
    "    html = urlopen(url)\n",
    "    soup = BeautifulSoup(html, 'html.parser')\n",
    "    paras = []\n",
    "    for para in soup.find(id=\"mw-content-text\").find_all('p'):\n",
    "        para = para.get_text()\n",
    "        para = para.replace('\\n', ' ')\n",
    "        para = re.sub(r\"\\[[0-9]+\\]\", \"\", para)\n",
    "        if len(para) < 10:\n",
    "            continue\n",
    "        # para = re.sub(r\"\\[[0-9]*\\]\", \"\", para)\n",
    "        if len(paras) == 0:\n",
    "            paras.append(para)\n",
    "        elif len(para) < 100:\n",
    "            paras[len(paras) - 1] += para\n",
    "        else:\n",
    "            paras.append(para)\n",
    "    for i, para in enumerate(paras):\n",
    "        doc = dict(\n",
    "            text=para,\n",
    "            title=f\"{topic}{i}\"\n",
    "        )\n",
    "        objects.append(doc)\n",
    "\n",
    "with open(\"mock_entries.json\", \"w\") as f:\n",
    "    f.write(json.dumps(objects))"
   ]
  },
  {
   "cell_type": "code",
   "execution_count": null,
   "id": "49a4cc4d",
   "metadata": {},
   "outputs": [],
   "source": [
    "USE_GPU = False\n",
    "import os\n",
    "os.environ[\"CUDA_VISIBLE_DEVICES\"] = \"\"\n",
    "import json\n",
    "\n",
    "from haystack.document_stores.faiss import FAISSDocumentStore\n",
    "\n",
    "document_store = FAISSDocumentStore.load('./index.faiss', './index.config')"
   ]
  },
  {
   "cell_type": "code",
   "execution_count": null,
   "id": "6a015084",
   "metadata": {},
   "outputs": [],
   "source": [
    "from haystack.nodes import DensePassageRetriever\n",
    "dpr_retriever = DensePassageRetriever(\n",
    "    document_store=document_store,\n",
    "    use_gpu=False\n",
    "    # query_embedding_model=\"facebook/dpr-question_encoder-single-nq-base\",\n",
    "    # passage_embedding_model=\"facebook/dpr-ctx_encoder-single-nq-base\"\n",
    ")"
   ]
  },
  {
   "cell_type": "code",
   "execution_count": null,
   "id": "27ef46c6",
   "metadata": {
    "scrolled": true
   },
   "outputs": [],
   "source": [
    "from haystack.nodes import RAGenerator\n",
    "rag_generator = RAGenerator(\n",
    "    model_name_or_path=\"facebook/rag-sequence-nq\",\n",
    "    retriever=dpr_retriever,\n",
    "    top_k=3,\n",
    "    min_length=3\n",
    ")"
   ]
  },
  {
   "cell_type": "code",
   "execution_count": null,
   "id": "53742695",
   "metadata": {},
   "outputs": [],
   "source": [
    "from haystack.pipelines import GenerativeQAPipeline\n",
    "\n",
    "from haystack.nodes import FARMReader\n",
    "from haystack.pipelines import ExtractiveQAPipeline\n",
    "reader = FARMReader(model_name_or_path=\"deepset/roberta-base-squad2\", use_gpu=False)\n",
    "pipe = ExtractiveQAPipeline(reader, dpr_retriever)\n",
    "result = pipe.run(query='What is CBT?', params={\"Retriever\": {\"top_k\": 5}})\n",
    "a = 1\n",
    "\n",
    "# # Change `minimum` to `medium` or `all` to raise the level of detail\n",
    "# print_answers(result, details=\"all\")\n",
    "print(result)\n",
    "return None"
   ]
  },
  {
   "cell_type": "code",
   "execution_count": 17,
   "id": "633b44ab",
   "metadata": {},
   "outputs": [],
   "source": [
    "from txtai.embeddings import Embeddings\n",
    "\n",
    "# Create embeddings model, backed by sentence-transformers & transformers\n",
    "embeddings = Embeddings({\"path\": \"sentence-transformers/nli-mpnet-base-v2\", \"content\":True})\n",
    "\n",
    "data = {\n",
    "  \"uid1\": {\"text\": \"US tops 5 million confirmed virus cases\", \"obj_id\": \"obj_id1\"},\n",
    "  \"uid1\": {\"text\": \"Canada's last fully intact ice shelf has suddenly collapsed\", \"obj_id\": \"obj_id2\"},\n",
    "  \"uid1\": {\"text\": \"forming a Manhattan-sized iceberg\", \"obj_id\": \"obj_id3\"},\n",
    "  \"uid1\": {\"text\": \"Beijing mobilises invasion craft along coast as Taiwan tensions escalate\", \"obj_id\": \"obj_id4\"},\n",
    "  \"uid1\": {\"text\": \"The National Park Service warns against sacrificing slower friends \", \"obj_id\": \"obj_id5\"},\n",
    "  \"uid1\": {\"text\": \"in a bear attack\", \"obj_id\": \"obj_id6\"},\n",
    "  \"uid1\": {\"text\": \"Maine man wins $1M from $25 lottery ticket\", \"obj_id\": \"obj_id7\"},\n",
    "  \"uid1\": {\"text\": \"Make huge profits without work, earn up to $100,000 a day\", \"obj_id\": \"obj_id8\"}\n",
    "}\n",
    "\n",
    "embeddings.index([\n",
    "    (uid, obj, None) \n",
    "    for uid, obj in data.items()\n",
    "])"
   ]
  },
  {
   "cell_type": "code",
   "execution_count": 16,
   "id": "b12f4be6",
   "metadata": {},
   "outputs": [
    {
     "data": {
      "text/plain": [
       "[]"
      ]
     },
     "execution_count": 16,
     "metadata": {},
     "output_type": "execute_result"
    }
   ],
   "source": [
    "embeddings.search(\"select id, text, obj_id, score from txtai where similar('ice shelf')\")"
   ]
  },
  {
   "cell_type": "code",
   "execution_count": 19,
   "id": "d1c925c8",
   "metadata": {},
   "outputs": [],
   "source": [
    "embeddings.save('./tmp_stuff')"
   ]
  },
  {
   "cell_type": "code",
   "execution_count": 20,
   "id": "e7a4ced8",
   "metadata": {},
   "outputs": [
    {
     "ename": "AttributeError",
     "evalue": "'Embeddings' object has no attribute 'embeddings'",
     "output_type": "error",
     "traceback": [
      "\u001b[0;31m---------------------------------------------------------------------------\u001b[0m",
      "\u001b[0;31mAttributeError\u001b[0m                            Traceback (most recent call last)",
      "Cell \u001b[0;32mIn [20], line 1\u001b[0m\n\u001b[0;32m----> 1\u001b[0m \u001b[43membeddings\u001b[49m\u001b[38;5;241;43m.\u001b[39;49m\u001b[43membeddings\u001b[49m\n",
      "\u001b[0;31mAttributeError\u001b[0m: 'Embeddings' object has no attribute 'embeddings'"
     ]
    }
   ],
   "source": [
    "embeddings.embeddings"
   ]
  },
  {
   "cell_type": "code",
   "execution_count": null,
   "id": "6d23a5a8",
   "metadata": {},
   "outputs": [],
   "source": []
  }
 ],
 "metadata": {
  "kernelspec": {
   "display_name": "Python 3 (ipykernel)",
   "language": "python",
   "name": "python3"
  },
  "language_info": {
   "codemirror_mode": {
    "name": "ipython",
    "version": 3
   },
   "file_extension": ".py",
   "mimetype": "text/x-python",
   "name": "python",
   "nbconvert_exporter": "python",
   "pygments_lexer": "ipython3",
   "version": "3.10.6"
  }
 },
 "nbformat": 4,
 "nbformat_minor": 5
}
