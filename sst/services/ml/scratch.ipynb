{
 "cells": [
  {
   "cell_type": "code",
   "execution_count": 4,
   "id": "4b3f9775",
   "metadata": {},
   "outputs": [],
   "source": [
    "import re\n",
    "import requests\n",
    "import urllib.request\n",
    "import time\n",
    "from bs4 import BeautifulSoup\n",
    "from urllib.request import urlopen\n",
    "import json\n",
    "\n",
    "objects = []\n",
    "articles = [\n",
    "    ['cbt', \"https://en.wikipedia.org/wiki/Cognitive_behavioral_therapy\"],\n",
    "    ['vr', \"https://en.wikipedia.org/wiki/Virtual_reality\"],\n",
    "    ['ai', \"https://en.wikipedia.org/wiki/Artificial_intelligence\"]\n",
    "]\n",
    "for [topic, url] in articles:\n",
    "    html = urlopen(url)\n",
    "    soup = BeautifulSoup(html, 'html.parser')\n",
    "    paras = []\n",
    "    for para in soup.find(id=\"mw-content-text\").find_all('p'):\n",
    "        para = para.get_text()\n",
    "        para = para.replace('\\n', ' ')\n",
    "        para = re.sub(r\"\\[[0-9]+\\]\", \"\", para)\n",
    "        if len(para) < 10:\n",
    "            continue\n",
    "        # para = re.sub(r\"\\[[0-9]*\\]\", \"\", para)\n",
    "        if len(paras) == 0:\n",
    "            paras.append(para)\n",
    "        elif len(para) < 100:\n",
    "            paras[len(paras) - 1] += para\n",
    "        else:\n",
    "            paras.append(para)\n",
    "    for i, para in enumerate(paras):\n",
    "        doc = dict(\n",
    "            text=para,\n",
    "            title=f\"{topic}{i}\"\n",
    "        )\n",
    "        objects.append(doc)\n",
    "\n",
    "with open(\"mock_entries.json\", \"w\") as f:\n",
    "    f.write(json.dumps(objects))"
   ]
  }
 ],
 "metadata": {
  "kernelspec": {
   "display_name": "Python 3 (ipykernel)",
   "language": "python",
   "name": "python3"
  },
  "language_info": {
   "codemirror_mode": {
    "name": "ipython",
    "version": 3
   },
   "file_extension": ".py",
   "mimetype": "text/x-python",
   "name": "python",
   "nbconvert_exporter": "python",
   "pygments_lexer": "ipython3",
   "version": "3.10.6"
  }
 },
 "nbformat": 4,
 "nbformat_minor": 5
}
